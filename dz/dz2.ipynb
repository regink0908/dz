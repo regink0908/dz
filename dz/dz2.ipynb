{
  "nbformat": 4,
  "nbformat_minor": 0,
  "metadata": {
    "colab": {
      "provenance": []
    },
    "kernelspec": {
      "name": "python3",
      "display_name": "Python 3"
    },
    "language_info": {
      "name": "python"
    }
  },
  "cells": [
    {
      "cell_type": "code",
      "execution_count": 1,
      "metadata": {
        "id": "ZoqV9TqbT6hh"
      },
      "outputs": [],
      "source": [
        "import pandas as pd\n"
      ]
    },
    {
      "cell_type": "code",
      "source": [
        "df = pd.read_csv(\"/content/NVIDIA (1999-2023).csv\")\n"
      ],
      "metadata": {
        "id": "f02FvIDrUCFO"
      },
      "execution_count": null,
      "outputs": []
    },
    {
      "cell_type": "markdown",
      "source": [
        "Гипотеза: Блокчейн на SSD вызовет спад цены акций компании NVIDIA на 5%\n",
        "по сравнению с прошлым годом. Рассчитаем среднюю цену акций за 2021 и 2022 гг"
      ],
      "metadata": {
        "id": "FTUEbDSXUUGR"
      }
    },
    {
      "cell_type": "code",
      "source": [
        "old_df = df[(df['Date']>='2021-01-01') & (df['Date']<'2022-01-01')]\n",
        "mean_old_df = old_df['Close'].mean()\n",
        "mean_old_df"
      ],
      "metadata": {
        "colab": {
          "base_uri": "https://localhost:8080/"
        },
        "id": "MI-rGH_cUdIx",
        "outputId": "b416ea9b-ebf3-4698-b86f-b923e273382a"
      },
      "execution_count": 3,
      "outputs": [
        {
          "output_type": "execute_result",
          "data": {
            "text/plain": [
              "195.21993053968254"
            ]
          },
          "metadata": {},
          "execution_count": 3
        }
      ]
    },
    {
      "cell_type": "code",
      "source": [
        "new_df = df[(df['Date'] >= '2021-01-01') & (df['Date'] < '2023-01-01')]\n",
        "mean_new_df = new_df['Close'].mean()\n",
        "mean_new_df"
      ],
      "metadata": {
        "colab": {
          "base_uri": "https://localhost:8080/"
        },
        "id": "KZ-vmux0Ul93",
        "outputId": "389a21dd-2a4c-4dd9-a9b2-855ca6221d21"
      },
      "execution_count": 4,
      "outputs": [
        {
          "output_type": "execute_result",
          "data": {
            "text/plain": [
              "190.46421963220675"
            ]
          },
          "metadata": {},
          "execution_count": 4
        }
      ]
    },
    {
      "cell_type": "code",
      "source": [
        "diff = 100-mean_new_df*100/mean_old_df\n",
        "diff"
      ],
      "metadata": {
        "colab": {
          "base_uri": "https://localhost:8080/"
        },
        "id": "w57e-_P6Uq8P",
        "outputId": "d10dfca6-1935-484b-abbd-157f95a40f0e"
      },
      "execution_count": 5,
      "outputs": [
        {
          "output_type": "execute_result",
          "data": {
            "text/plain": [
              "2.436078577801311"
            ]
          },
          "metadata": {},
          "execution_count": 5
        }
      ]
    },
    {
      "cell_type": "code",
      "source": [
        "# Диапазон +-1%\n",
        "if 9 <=diff <= 11:\n",
        "    print('Гипотеза верна')\n",
        "else:\n",
        "    print('Гипотеза не верна. Уменьшение на '+ str(round(diff)) + ' %')"
      ],
      "metadata": {
        "colab": {
          "base_uri": "https://localhost:8080/"
        },
        "id": "_K6visMzUukg",
        "outputId": "4c29001b-484c-4ed4-ed3c-cf8fb0fa3f6a"
      },
      "execution_count": 6,
      "outputs": [
        {
          "output_type": "stream",
          "name": "stdout",
          "text": [
            "Гипотеза не верна. Уменьшение на 2 %\n"
          ]
        }
      ]
    }
  ]
}